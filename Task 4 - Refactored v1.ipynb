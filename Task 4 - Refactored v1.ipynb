{
 "cells": [
  {
   "cell_type": "code",
   "execution_count": 116,
   "metadata": {
    "collapsed": true
   },
   "outputs": [],
   "source": [
    "import pandas as pd\n",
    "from pandas import Series, DataFrame\n",
    "import numpy as np\n",
    "import os\n",
    "import ast\n",
    "import re\n",
    "import matplotlib.pyplot as plt\n",
    "from sklearn.feature_extraction.text import CountVectorizer, TfidfVectorizer\n",
    "from sklearn.metrics.pairwise import cosine_similarity\n",
    "\n",
    "%matplotlib inline"
   ]
  },
  {
   "cell_type": "code",
   "execution_count": 65,
   "metadata": {
    "collapsed": true
   },
   "outputs": [],
   "source": [
    "def parseGenres(data):\n",
    "    data['genre'] = \"\"\n",
    "    for index, row in data.iterrows():\n",
    "        genres = row['genres']\n",
    "        genre_list = ast.literal_eval(genres)\n",
    "        if len(genre_list) == 0:\n",
    "            data.at[index,'genre'] = np.nan #set empty genre lists as a NaN\n",
    "        else:\n",
    "            genres_temp = []\n",
    "            for genre in genre_list: \n",
    "                temp = (genre['name'])\n",
    "                genres_temp.append(temp)\n",
    "            data.at[index,'genre'] = genres_temp\n",
    "    del data['genres']\n",
    "    return data"
   ]
  },
  {
   "cell_type": "code",
   "execution_count": 66,
   "metadata": {
    "collapsed": true
   },
   "outputs": [],
   "source": [
    "def parseKeywords(data):\n",
    "    data['keyword'] = \"\"\n",
    "    for index, row in data.iterrows():\n",
    "        keywords = row['keywords']\n",
    "        keyword_list = ast.literal_eval(keywords)\n",
    "        if len(keyword_list) == 0:\n",
    "            data.at[index,'keyword'] = np.nan\n",
    "        else:\n",
    "            keywords_temp = []\n",
    "            for word in keyword_list: \n",
    "                temp = (word['name'])\n",
    "                keywords_temp.append(temp)\n",
    "            data.at[index,'keyword'] = keywords_temp\n",
    "    del data['keywords']\n",
    "    return data"
   ]
  },
  {
   "cell_type": "code",
   "execution_count": 67,
   "metadata": {
    "collapsed": true
   },
   "outputs": [],
   "source": [
    "def getStopWords():\n",
    "    stopwords = []\n",
    "    with open('stopwords.txt', \"r\") as file_in:\n",
    "        for line in file_in:\n",
    "            line = line.strip('\\n')\n",
    "            stopwords.append(line)\n",
    "\n",
    "    stopwords_set = set(stopwords) #convert to set for faster processing\n",
    "    return stopwords_set"
   ]
  },
  {
   "cell_type": "code",
   "execution_count": 71,
   "metadata": {
    "collapsed": true
   },
   "outputs": [],
   "source": [
    "def doc_to_words(raw_text):\n",
    "    \n",
    "    # 1. Remove non-letters        \n",
    "    # Use regular expressions to do a find-and-replace\n",
    "    letters_only = re.sub(\"[^a-zA-Z]\", \" \", raw_text) \n",
    "    #print(letters_only)\n",
    "    \n",
    "    # 2. Convert to lower case, split into individual words\n",
    "    words = letters_only.lower().split()\n",
    "    #print(words)\n",
    "    \n",
    "    # 3. In Python, searching a set is much faster than searching a list, so convert the stop words to a set.\n",
    "    # Import the stopwords from text file\n",
    "    stops = getStopWords()                  \n",
    "    \n",
    "    # 4. Remove stop words from the play\n",
    "    meaningful_words = [w for w in words if not w in stops]   \n",
    "    #print(meaningful_words)\n",
    "    \n",
    "    # 5. Join the words back into one string separated by space, and return the result.\n",
    "    return( \" \".join( meaningful_words ))"
   ]
  },
  {
   "cell_type": "markdown",
   "metadata": {},
   "source": [
    "### Import CSVs, remove empty cells, merge and explode on genre"
   ]
  },
  {
   "cell_type": "code",
   "execution_count": 69,
   "metadata": {
    "collapsed": true
   },
   "outputs": [],
   "source": [
    "# keep titles in for sanity checks\n",
    "df_meta = pd.read_csv('data/movies_metadata.csv', usecols = ['id','genres','title']) #import csv, selct columns\n",
    "df_keywords = pd.read_csv('data/keywords.csv', usecols = ['id', 'keywords'])\n",
    "\n",
    "df_meta = parseGenres(df_meta) #parse the genres into a list and save in new column, set empty genres lists to NaN\n",
    "df_keywords = parseKeywords(df_keywords) #parse the keywords into a list and save in new column, set empty lists -> NaN\n",
    "\n",
    "df_meta = df_meta.dropna(subset=['title']) #drop any rows where title is a NaN - 6 titles in total\n",
    "df_meta = df_meta.dropna(subset=['genre']) #drop all rows where genres are NaNs\n",
    "df_keywords = df_keywords.dropna(subset=['keyword']) #drop the 14795 rows\n",
    "\n",
    "df_meta['id'] = df_meta['id'].astype(int) #convert strings to ints \n",
    "df_keywords['id'] = df_keywords['id'].astype(int) #convert strings to int\n",
    "\n",
    "df = df_meta.merge(df_keywords, on='id') #merge the dat sets in 'id' column. INNER JOIN\n",
    "\n",
    "df_all = df #store an uexploded copy\n",
    "\n",
    "df = df.explode('genre') #explode each movie by genre, if movie has 3 genre tags then it will occur 3 times.\n",
    "df = df.reset_index(drop=True) #reset index numbers"
   ]
  },
  {
   "cell_type": "markdown",
   "metadata": {},
   "source": [
    "### Get uniques genres, movie counts and plot"
   ]
  },
  {
   "cell_type": "code",
   "execution_count": 72,
   "metadata": {},
   "outputs": [
    {
     "data": {
      "image/png": "[encoded data removed]",
      "text/plain": [
       "<matplotlib.figure.Figure at 0x11fc4acf8>"
      ]
     },
     "metadata": {},
     "output_type": "display_data"
    }
   ],
   "source": [
    "#find unique genres\n",
    "unique_genres = df['genre'].unique() #get unique genres\n",
    "unique_genres = sorted(unique_genres) # sort alphabetically\n",
    "\n",
    "# count all the movies, these will have repeat titles due to movie having mutliple genres tags\n",
    "df['count'] = 1 ##add a count column to data set, this will now eleimate any NaNs in the datase\n",
    "df_genres = df.groupby(['genre']).count()['count'] #calculate counts for each genre group\n",
    "df_genres = df_genres.to_frame().reset_index() # convert from series to dataframe\n",
    "\n",
    "#plot the genres\n",
    "df_plot = df_genres.set_index('genre') #set the index column to the genre names for plotting\n",
    "df_plot[['count']].plot.barh(stacked = True, title = 'Genre Counts in our dataset', figsize = (8, 8));"
   ]
  },
  {
   "cell_type": "markdown",
   "metadata": {},
   "source": [
    "### Create documents, clean the text and build a Corpus"
   ]
  },
  {
   "cell_type": "code",
   "execution_count": 73,
   "metadata": {},
   "outputs": [],
   "source": [
    "#loop through unique genres, reading in all the keywords for each genre and save as a doc.\n",
    "# we should be left with 19 unique genre documents saved as text files in a docs folder.\n",
    "\n",
    "df_main = df.drop(columns=['id', 'title', 'count']) # remove the id and title, we dont need them anymore"
   ]
  },
  {
   "cell_type": "markdown",
   "metadata": {},
   "source": [
    "### Extract keywords into Docs, clean text, store in a Corpus"
   ]
  },
  {
   "cell_type": "code",
   "execution_count": 74,
   "metadata": {},
   "outputs": [
    {
     "name": "stdout",
     "output_type": "stream",
     "text": [
      "Action\n",
      "Adventure\n",
      "Animation\n",
      "Comedy\n",
      "Crime\n",
      "Documentary\n",
      "Drama\n",
      "Family\n",
      "Fantasy\n",
      "Foreign\n",
      "History\n",
      "Horror\n",
      "Music\n",
      "Mystery\n",
      "Romance\n",
      "Science Fiction\n",
      "TV Movie\n",
      "Thriller\n",
      "War\n",
      "Western\n"
     ]
    }
   ],
   "source": [
    "corpus = []\n",
    "\n",
    "for genre in unique_genres:\n",
    "    doc = \"\"\n",
    "    df_temp = df_main.loc[df_main['genre'] == genre]\n",
    "    for index, row in df_temp.iterrows():\n",
    "        k_words = row['keyword']\n",
    "        for word in k_words:\n",
    "            doc += word + \" \"\n",
    "    clean_doc = doc_to_words(doc)\n",
    "    corpus.append(clean_doc)\n",
    "    "
   ]
  },
  {
   "cell_type": "markdown",
   "metadata": {},
   "source": [
    "### Vecotrize the corpus"
   ]
  },
  {
   "cell_type": "code",
   "execution_count": 152,
   "metadata": {},
   "outputs": [],
   "source": [
    "vectorizer = CountVectorizer() #ceate vecotrizer object that count occurances of words\n",
    "vectorizer_count = vectorizer.fit_transform(corpus).todense()  #fit the corups to the vecotr, creste a matrix\n",
    "\n",
    "#normalize vector count by dividing by the count of movies with that genre\n",
    "# This give the concetration of keywords in a genre\n",
    "# takes care of the fact that some genres contain more movies than others\n",
    "\n",
    "#matrix_normalized = np.divide(vectorizer_count, df_genres['count'].to_numpy()[:, np.newaxis]) \n",
    "#matrix = pd.DataFrame(vectorizer_count, columns=vectorizer.get_feature_names())\n",
    "#matrix.index = unique_genres\n",
    "#matrix"
   ]
  },
  {
   "cell_type": "markdown",
   "metadata": {},
   "source": [
    "### Vectorize Query and Rank keyword relevance to Genre"
   ]
  },
  {
   "cell_type": "code",
   "execution_count": 151,
   "metadata": {},
   "outputs": [
    {
     "name": "stdout",
     "output_type": "stream",
     "text": [
      "Anne Frank Remembered\n",
      "['Documentary', 'Drama', 'Foreign']\n",
      "['fascism', 'auschwitz', 'typhus', 'victim', 'interview', 'prejudice', 'burglary', 'rabbit']\n"
     ]
    },
    {
     "data": {
      "text/html": [
       "<div>\n",
       "<style scoped>\n",
       "    .dataframe tbody tr th:only-of-type {\n",
       "        vertical-align: middle;\n",
       "    }\n",
       "\n",
       "    .dataframe tbody tr th {\n",
       "        vertical-align: top;\n",
       "    }\n",
       "\n",
       "    .dataframe thead th {\n",
       "        text-align: right;\n",
       "    }\n",
       "</style>\n",
       "<table border=\"1\" class=\"dataframe\">\n",
       "  <thead>\n",
       "    <tr style=\"text-align: right;\">\n",
       "      <th></th>\n",
       "      <th>cosines</th>\n",
       "    </tr>\n",
       "  </thead>\n",
       "  <tbody>\n",
       "    <tr>\n",
       "      <th>Documentary</th>\n",
       "      <td>0.021674</td>\n",
       "    </tr>\n",
       "    <tr>\n",
       "      <th>Foreign</th>\n",
       "      <td>0.020847</td>\n",
       "    </tr>\n",
       "    <tr>\n",
       "      <th>Animation</th>\n",
       "      <td>0.012928</td>\n",
       "    </tr>\n",
       "    <tr>\n",
       "      <th>History</th>\n",
       "      <td>0.012184</td>\n",
       "    </tr>\n",
       "    <tr>\n",
       "      <th>Family</th>\n",
       "      <td>0.010920</td>\n",
       "    </tr>\n",
       "    <tr>\n",
       "      <th>Mystery</th>\n",
       "      <td>0.010278</td>\n",
       "    </tr>\n",
       "    <tr>\n",
       "      <th>Drama</th>\n",
       "      <td>0.009424</td>\n",
       "    </tr>\n",
       "    <tr>\n",
       "      <th>Crime</th>\n",
       "      <td>0.009311</td>\n",
       "    </tr>\n",
       "    <tr>\n",
       "      <th>War</th>\n",
       "      <td>0.009252</td>\n",
       "    </tr>\n",
       "    <tr>\n",
       "      <th>Thriller</th>\n",
       "      <td>0.008801</td>\n",
       "    </tr>\n",
       "    <tr>\n",
       "      <th>Horror</th>\n",
       "      <td>0.008534</td>\n",
       "    </tr>\n",
       "    <tr>\n",
       "      <th>Adventure</th>\n",
       "      <td>0.007282</td>\n",
       "    </tr>\n",
       "    <tr>\n",
       "      <th>Fantasy</th>\n",
       "      <td>0.006938</td>\n",
       "    </tr>\n",
       "    <tr>\n",
       "      <th>Comedy</th>\n",
       "      <td>0.006228</td>\n",
       "    </tr>\n",
       "    <tr>\n",
       "      <th>Romance</th>\n",
       "      <td>0.005842</td>\n",
       "    </tr>\n",
       "    <tr>\n",
       "      <th>TV Movie</th>\n",
       "      <td>0.005396</td>\n",
       "    </tr>\n",
       "    <tr>\n",
       "      <th>Science Fiction</th>\n",
       "      <td>0.004583</td>\n",
       "    </tr>\n",
       "    <tr>\n",
       "      <th>Action</th>\n",
       "      <td>0.003752</td>\n",
       "    </tr>\n",
       "    <tr>\n",
       "      <th>Music</th>\n",
       "      <td>0.003302</td>\n",
       "    </tr>\n",
       "    <tr>\n",
       "      <th>Western</th>\n",
       "      <td>0.002021</td>\n",
       "    </tr>\n",
       "  </tbody>\n",
       "</table>\n",
       "</div>"
      ],
      "text/plain": [
       "                  cosines\n",
       "Documentary      0.021674\n",
       "Foreign          0.020847\n",
       "Animation        0.012928\n",
       "History          0.012184\n",
       "Family           0.010920\n",
       "Mystery          0.010278\n",
       "Drama            0.009424\n",
       "Crime            0.009311\n",
       "War              0.009252\n",
       "Thriller         0.008801\n",
       "Horror           0.008534\n",
       "Adventure        0.007282\n",
       "Fantasy          0.006938\n",
       "Comedy           0.006228\n",
       "Romance          0.005842\n",
       "TV Movie         0.005396\n",
       "Science Fiction  0.004583\n",
       "Action           0.003752\n",
       "Music            0.003302\n",
       "Western          0.002021"
      ]
     },
     "execution_count": 151,
     "metadata": {},
     "output_type": "execute_result"
    }
   ],
   "source": [
    "movieId = 100\n",
    "\n",
    "query_title = df_all.iloc[movieId]['title']\n",
    "query_kwords = df_all.iloc[movieId]['keyword']\n",
    "query_genres = df_all.iloc[movieId]['genre']\n",
    "\n",
    "query = \"\"\n",
    "for kw in query_kwords:\n",
    "    query += kw + \" \"\n",
    "\n",
    "query_count_vector = vectorizer.transform([query])\n",
    "\n",
    "cosineSimilarities = cosine_similarity(query_count_vector, vectorizer_count).flatten()\n",
    "\n",
    "results =  pd.DataFrame(cosineSimilarities, columns=['cosines']) # create pandas dataframe and rename column\n",
    "results.index = unique_genres #add genres to the index\n",
    "results_sorted = results.sort_values(by=['cosines'], ascending=False)\n",
    "\n",
    "print(query_title)\n",
    "print(query_genres)\n",
    "print(query_kwords)\n",
    "results_sorted"
   ]
  },
  {
   "cell_type": "code",
   "execution_count": null,
   "metadata": {
    "collapsed": true
   },
   "outputs": [],
   "source": []
  }
 ],
 "metadata": {
  "kernelspec": {
   "display_name": "Python 3",
   "language": "python",
   "name": "python3"
  },
  "language_info": {
   "codemirror_mode": {
    "name": "ipython",
    "version": 3
   },
   "file_extension": ".py",
   "mimetype": "text/x-python",
   "name": "python",
   "nbconvert_exporter": "python",
   "pygments_lexer": "ipython3",
   "version": "3.6.2"
  }
 },
 "nbformat": 4,
 "nbformat_minor": 2
}
