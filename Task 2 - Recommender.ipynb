{
 "cells": [
  {
   "cell_type": "raw",
   "metadata": {},
   "source": [
    "Recommend the three movies the following users are most likely to consider watching next, user id: 1, 5829, 9173. \n",
    "\n",
    "You may need to consider the data sparsity problem here and research possible solutions\n",
    "\n",
    "Books\n",
    "Web Data Mining pp 555 -\n",
    "\n"
   ]
  },
  {
   "cell_type": "code",
   "execution_count": 1,
   "metadata": {
    "collapsed": true
   },
   "outputs": [],
   "source": [
    "import pandas as pd\n",
    "import os\n",
    "from surprise import Reader, Dataset, SVD\n",
    "from surprise.accuracy import rmse,mae\n",
    "from surprise.model_selection import cross_validate\n",
    "\n",
    "import matplotlib.pyplot as plt\n",
    "from collections import defaultdict\n",
    "\n",
    "\n",
    "%matplotlib inline"
   ]
  },
  {
   "cell_type": "markdown",
   "metadata": {},
   "source": [
    "### Import data sets, remove NaNs, rename columns, convert types"
   ]
  },
  {
   "cell_type": "code",
   "execution_count": 52,
   "metadata": {},
   "outputs": [
    {
     "name": "stdout",
     "output_type": "stream",
     "text": [
      "(100004, 3)\n",
      "(45460, 2)\n"
     ]
    }
   ],
   "source": [
    "df_ratings = pd.read_csv('data/ratings_small.csv', usecols = ['userId','movieId', 'rating']) #do not import the timestamp col\n",
    "df_meta = pd.read_csv('data/movies_metadata.csv', usecols = ['id','title'])\n",
    "\n",
    "df_meta.rename(columns={'id': 'movieId'}, inplace=True)\n",
    "\n",
    "df_ratings = df_ratings.dropna(subset=['userId', 'movieId', 'rating']) #remove any NaN\n",
    "df_meta = df_meta.dropna(subset=['movieId','title']) #drop any rows where title is a NaN - 6 titles in total\n",
    "\n",
    "df_ratings[['userId','movieId']] = df_ratings[['userId','movieId']].astype(int)\n",
    "df_ratings['rating'] = df_ratings['rating'].astype(float)#convert from string to float\n",
    "df_meta['movieId'] = df_meta['movieId'].astype(int) #convert strings to ints \n",
    "\n",
    "print(df_ratings.shape)\n",
    "print(df_meta.shape)"
   ]
  },
  {
   "cell_type": "markdown",
   "metadata": {},
   "source": [
    "### Exploratory Data Analysis"
   ]
  },
  {
   "cell_type": "code",
   "execution_count": 53,
   "metadata": {},
   "outputs": [
    {
     "name": "stdout",
     "output_type": "stream",
     "text": [
      "9066\n",
      "671\n"
     ]
    }
   ],
   "source": [
    "number_of_unique_movies = df_ratings['movieId'].nunique()\n",
    "number_of_unique_users = df_ratings['userId'].nunique()\n",
    "print(number_of_unique_movies)\n",
    "print(number_of_unique_users)"
   ]
  },
  {
   "cell_type": "markdown",
   "metadata": {},
   "source": [
    "### Sparcity of the dataset\n",
    "Sparsity (%) = (no of missing values / total values) * 100"
   ]
  },
  {
   "cell_type": "code",
   "execution_count": 54,
   "metadata": {},
   "outputs": [
    {
     "name": "stdout",
     "output_type": "stream",
     "text": [
      "Sparsity of dataset: 98.36%\n"
     ]
    }
   ],
   "source": [
    "# calculate the data sparcity of the matrix, how many zeros are there in the \n",
    "#matrix number of movies x number of users\n",
    "# preferable to have low sparsity, up to 99.5% sparcity ok for the svd model\n",
    "\n",
    "available_ratings = df_ratings['rating'].count()\n",
    "total_ratings = number_of_unique_movies * number_of_unique_users\n",
    "missing_ratings = total_ratings - available_ratings\n",
    "sparsity = (missing_ratings/total_ratings)*100\n",
    "print(\"Sparsity of dataset: {}%\".format(round(sparsity, 2)))"
   ]
  },
  {
   "cell_type": "markdown",
   "metadata": {},
   "source": [
    "### Ratings Distribution"
   ]
  },
  {
   "cell_type": "code",
   "execution_count": 55,
   "metadata": {},
   "outputs": [
    {
     "name": "stdout",
     "output_type": "stream",
     "text": [
      "(100004, 3)\n"
     ]
    },
    {
     "data": {
      "image/png": "[encoded data removed]",
      "text/plain": [
       "<matplotlib.figure.Figure at 0x11b50fc18>"
      ]
     },
     "metadata": {},
     "output_type": "display_data"
    }
   ],
   "source": [
    "df_ratings['rating'].value_counts().plot(kind = 'bar')\n",
    "print(df_ratings.shape)"
   ]
  },
  {
   "cell_type": "markdown",
   "metadata": {},
   "source": [
    "### Dimensionality Reduction"
   ]
  },
  {
   "cell_type": "code",
   "execution_count": 56,
   "metadata": {},
   "outputs": [
    {
     "name": "stdout",
     "output_type": "stream",
     "text": [
      "(100004, 3)\n",
      "Number of movies with >3 ratings: 4046\n",
      "Number of user with >3 ratings: 671\n",
      "(92272, 3)\n"
     ]
    }
   ],
   "source": [
    "#Filter movies with less than 3 ratings\n",
    "print(df_ratings.shape)\n",
    "filter_movies = df_ratings['movieId'].value_counts() > 3\n",
    "filter_movies = filter_movies[filter_movies].index.tolist()\n",
    "print(\"Number of movies with >3 ratings: {}\".format(len(filter_movies)))\n",
    "\n",
    "#filter users with less than 3 movies rated\n",
    "\n",
    "filter_users = df_ratings['userId'].value_counts() > 3\n",
    "filter_users = filter_users[filter_users].index.tolist()\n",
    "print(\"Number of user with >3 ratings: {}\".format(len(filter_users)))\n",
    "\n",
    "# remove rarely rated movies and rarely rated users\n",
    "df_ratings = df_ratings[(df_ratings['movieId'].isin(filter_movies)) & (df_ratings['userId'].isin(filter_users))]\n",
    "print(df_ratings.shape)\n",
    "\n",
    "#number of ratings  to process has dropped from 100004 > 92272\n",
    "# only 8% of data has been filtered"
   ]
  },
  {
   "cell_type": "markdown",
   "metadata": {},
   "source": [
    "### Training the data with test sets"
   ]
  },
  {
   "cell_type": "code",
   "execution_count": 57,
   "metadata": {
    "collapsed": true
   },
   "outputs": [],
   "source": [
    "#Columns used for training\n",
    "cols = ['userId', 'movieId', 'rating']\n",
    "\n",
    "#create a surpise reader using the surprise library, max/min rating scale cardinal\n",
    "reader = Reader(rating_scale = (0.5, 5))\n",
    "\n",
    "#import the data using surpse Dataset object\n",
    "data = Dataset.load_from_df(df_ratings[cols], reader)\n",
    "\n",
    "#create the training-set and prediction-set using complete dataset\n",
    "#use trainset to train model\n",
    "trainset = data.build_full_trainset()\n",
    "\n",
    "# antiset used for predictions\n",
    "# a antiset that contains colbination of movies and user where there is no rating\n",
    "# contains pairs of user/movie that do not have a rating yet and require a prediction.\n",
    "antiset = trainset.build_anti_testset()\n",
    "\n"
   ]
  },
  {
   "cell_type": "markdown",
   "metadata": {},
   "source": [
    "### Create an SVD model"
   ]
  },
  {
   "cell_type": "code",
   "execution_count": 58,
   "metadata": {},
   "outputs": [
    {
     "name": "stdout",
     "output_type": "stream",
     "text": [
      "Processing epoch 0\n",
      "Processing epoch 1\n",
      "Processing epoch 2\n",
      "Processing epoch 3\n",
      "Processing epoch 4\n",
      "Processing epoch 5\n",
      "Processing epoch 6\n",
      "Processing epoch 7\n",
      "Processing epoch 8\n",
      "Processing epoch 9\n",
      "Processing epoch 10\n",
      "Processing epoch 11\n",
      "Processing epoch 12\n",
      "Processing epoch 13\n",
      "Processing epoch 14\n",
      "Processing epoch 15\n",
      "Processing epoch 16\n",
      "Processing epoch 17\n",
      "Processing epoch 18\n",
      "Processing epoch 19\n",
      "Processing epoch 20\n",
      "Processing epoch 21\n",
      "Processing epoch 22\n",
      "Processing epoch 23\n",
      "Processing epoch 24\n",
      "Processing epoch 0\n",
      "Processing epoch 1\n",
      "Processing epoch 2\n",
      "Processing epoch 3\n",
      "Processing epoch 4\n",
      "Processing epoch 5\n",
      "Processing epoch 6\n",
      "Processing epoch 7\n",
      "Processing epoch 8\n",
      "Processing epoch 9\n",
      "Processing epoch 10\n",
      "Processing epoch 11\n",
      "Processing epoch 12\n",
      "Processing epoch 13\n",
      "Processing epoch 14\n",
      "Processing epoch 15\n",
      "Processing epoch 16\n",
      "Processing epoch 17\n",
      "Processing epoch 18\n",
      "Processing epoch 19\n",
      "Processing epoch 20\n",
      "Processing epoch 21\n",
      "Processing epoch 22\n",
      "Processing epoch 23\n",
      "Processing epoch 24\n",
      "Processing epoch 0\n",
      "Processing epoch 1\n",
      "Processing epoch 2\n",
      "Processing epoch 3\n",
      "Processing epoch 4\n",
      "Processing epoch 5\n",
      "Processing epoch 6\n",
      "Processing epoch 7\n",
      "Processing epoch 8\n",
      "Processing epoch 9\n",
      "Processing epoch 10\n",
      "Processing epoch 11\n",
      "Processing epoch 12\n",
      "Processing epoch 13\n",
      "Processing epoch 14\n",
      "Processing epoch 15\n",
      "Processing epoch 16\n",
      "Processing epoch 17\n",
      "Processing epoch 18\n",
      "Processing epoch 19\n",
      "Processing epoch 20\n",
      "Processing epoch 21\n",
      "Processing epoch 22\n",
      "Processing epoch 23\n",
      "Processing epoch 24\n",
      "Processing epoch 0\n",
      "Processing epoch 1\n",
      "Processing epoch 2\n",
      "Processing epoch 3\n",
      "Processing epoch 4\n",
      "Processing epoch 5\n",
      "Processing epoch 6\n",
      "Processing epoch 7\n",
      "Processing epoch 8\n",
      "Processing epoch 9\n",
      "Processing epoch 10\n",
      "Processing epoch 11\n",
      "Processing epoch 12\n",
      "Processing epoch 13\n",
      "Processing epoch 14\n",
      "Processing epoch 15\n",
      "Processing epoch 16\n",
      "Processing epoch 17\n",
      "Processing epoch 18\n",
      "Processing epoch 19\n",
      "Processing epoch 20\n",
      "Processing epoch 21\n",
      "Processing epoch 22\n",
      "Processing epoch 23\n",
      "Processing epoch 24\n",
      "Processing epoch 0\n",
      "Processing epoch 1\n",
      "Processing epoch 2\n",
      "Processing epoch 3\n",
      "Processing epoch 4\n",
      "Processing epoch 5\n",
      "Processing epoch 6\n",
      "Processing epoch 7\n",
      "Processing epoch 8\n",
      "Processing epoch 9\n",
      "Processing epoch 10\n",
      "Processing epoch 11\n",
      "Processing epoch 12\n",
      "Processing epoch 13\n",
      "Processing epoch 14\n",
      "Processing epoch 15\n",
      "Processing epoch 16\n",
      "Processing epoch 17\n",
      "Processing epoch 18\n",
      "Processing epoch 19\n",
      "Processing epoch 20\n",
      "Processing epoch 21\n",
      "Processing epoch 22\n",
      "Processing epoch 23\n",
      "Processing epoch 24\n",
      "Evaluating RMSE, MAE of algorithm SVD on 5 split(s).\n",
      "\n",
      "                  Fold 1  Fold 2  Fold 3  Fold 4  Fold 5  Mean    Std     \n",
      "RMSE (testset)    0.8926  0.8788  0.8872  0.8854  0.8865  0.8861  0.0044  \n",
      "MAE (testset)     0.6856  0.6771  0.6826  0.6808  0.6806  0.6813  0.0028  \n",
      "Fit time          7.33    7.15    7.93    7.35    7.83    7.52    0.31    \n",
      "Test time         0.20    0.18    0.25    0.17    0.17    0.20    0.03    \n"
     ]
    },
    {
     "data": {
      "text/plain": [
       "{'fit_time': (7.334821939468384,\n",
       "  7.145766019821167,\n",
       "  7.932235956192017,\n",
       "  7.346879005432129,\n",
       "  7.828912973403931),\n",
       " 'test_mae': array([0.6855648 , 0.67711135, 0.68257321, 0.68080657, 0.680648  ]),\n",
       " 'test_rmse': array([0.89257521, 0.87884848, 0.88719234, 0.88538872, 0.88652576]),\n",
       " 'test_time': (0.19726896286010742,\n",
       "  0.18092703819274902,\n",
       "  0.253314733505249,\n",
       "  0.17211699485778809,\n",
       "  0.17277312278747559)}"
      ]
     },
     "execution_count": 58,
     "metadata": {},
     "output_type": "execute_result"
    }
   ],
   "source": [
    "# SVD  (Singular Value Decomposition)\n",
    "# each row represetns a user, each column repesetns and item(movie). Interaction MAtrix\n",
    "# SVD is a matrix decompostion method for reducing a mtrix into its consituent parts\n",
    "# SVD takes a interaction matrix and factorizes into 3 matrices,\n",
    "# Interaction matrix = A x B x C\n",
    "# Takes a sparse interaction matrix, factorizes  into 3 matrixes, then multiple factors back to form interaction matrix estimation\n",
    "\n",
    "#number of epochs, model tries fit model over data 25 time, trying to reduce errors\n",
    "algo = SVD(n_epochs = 25, verbose = True)\n",
    "\n",
    "#Training the model\n",
    "# cross validation, re-sampling procedure to evaulate machine laerning mdoels.\n",
    "# divide data into k parts, using k-1 parts to train and 1 part to test\n",
    "# each time taking a different part for testing\n",
    "# k = 5, 4 parts train, 1 part test,\n",
    "# results in less bias model, each observation in the data set has a chance of appearing in the traing and teting set\n",
    "\n",
    "#MEan Absolute Error - avergae magnituede of the errors in a set of predictions without consdering direction\n",
    "#Root Mean Squared Error - sqaure root of average sqaured differecne bewteen prediciton and observation\n",
    "\n",
    "\n",
    "cross_validate(algo, data, measures = ['RMSE', 'MAE'], cv = 5, verbose= True)"
   ]
  },
  {
   "cell_type": "markdown",
   "metadata": {},
   "source": [
    "### Predctions"
   ]
  },
  {
   "cell_type": "code",
   "execution_count": 59,
   "metadata": {
    "collapsed": true
   },
   "outputs": [],
   "source": [
    "# Predcit raiting for all pairs (users, items) that are NOT in the trianing set\n",
    "\n",
    "predictions = algo.test(antiset)"
   ]
  },
  {
   "cell_type": "code",
   "execution_count": 60,
   "metadata": {
    "collapsed": true
   },
   "outputs": [],
   "source": [
    "def getRecommendations(userID, n, predictions):\n",
    "\n",
    "    user1 = []\n",
    "    for uid, iid, _, est, _ in predictions:\n",
    "        if uid == userID:\n",
    "            user1.append((uid, iid, est))\n",
    "    df1 = pd.DataFrame(user1, columns = ['userId','movieId', 'predRating'])\n",
    "    df1 = df1.sort_values('predRating', ascending=False)\n",
    "    df1 = df1.head(n)\n",
    "\n",
    "    print(\"UserID: {}\".format(userID))\n",
    "\n",
    "    print(\"Top 3 recommended movies to watch next...\")\n",
    "    for index, row in df1.iterrows():\n",
    "        movieid = int(row['movieId'])\n",
    "        pred_rating = row['predRating']\n",
    "        print(\"{}, {}, {}\".format(movieid, getMovieTitle(movieid), round(pred_rating,2)))\n",
    "    "
   ]
  },
  {
   "cell_type": "code",
   "execution_count": 61,
   "metadata": {
    "collapsed": true
   },
   "outputs": [],
   "source": [
    "def getMovieTitle(movieId):\n",
    "    df_title = df_meta.loc[df_meta['movieId'] == movieId]\n",
    "    if len(df_title) == 0:\n",
    "        title = \"Unknown\"\n",
    "    else:\n",
    "        title = df_title.iloc[0,1]\n",
    "    return title"
   ]
  },
  {
   "cell_type": "code",
   "execution_count": 68,
   "metadata": {},
   "outputs": [
    {
     "name": "stdout",
     "output_type": "stream",
     "text": [
      "UserID: 6\n",
      "Top 3 recommended movies to watch next...\n",
      "969, Unknown, 4.27\n",
      "1213, The Talented Mr. Ripley, 4.21\n",
      "1217, Unknown, 4.19\n"
     ]
    }
   ],
   "source": [
    "userID = 6\n",
    "\n",
    "getRecommendations(userID, 3, predictions)"
   ]
  },
  {
   "cell_type": "code",
   "execution_count": null,
   "metadata": {
    "collapsed": true
   },
   "outputs": [],
   "source": [
    "TO DO\n",
    "links.csv and meta data.csv. merge on ids and get titles."
   ]
  }
 ],
 "metadata": {
  "kernelspec": {
   "display_name": "Python 3",
   "language": "python",
   "name": "python3"
  },
  "language_info": {
   "codemirror_mode": {
    "name": "ipython",
    "version": 3
   },
   "file_extension": ".py",
   "mimetype": "text/x-python",
   "name": "python",
   "nbconvert_exporter": "python",
   "pygments_lexer": "ipython3",
   "version": "3.6.2"
  }
 },
 "nbformat": 4,
 "nbformat_minor": 2
}
